{
 "cells": [
  {
   "cell_type": "code",
   "execution_count": 3,
   "metadata": {},
   "outputs": [],
   "source": [
    "from transformers import AutoTokenizer, AutoModelForSequenceClassification, Trainer, TrainingArguments\n",
    "from datasets import load_dataset\n",
    "import numpy as np\n",
    "import evaluate\n",
    "import torch"
   ]
  },
  {
   "cell_type": "code",
   "execution_count": 4,
   "metadata": {},
   "outputs": [
    {
     "data": {
      "application/vnd.jupyter.widget-view+json": {
       "model_id": "727da1838e774c16b79ad0fd547921d1",
       "version_major": 2,
       "version_minor": 0
      },
      "text/plain": [
       "README.md:   0%|          | 0.00/770 [00:00<?, ?B/s]"
      ]
     },
     "metadata": {},
     "output_type": "display_data"
    },
    {
     "data": {
      "application/vnd.jupyter.widget-view+json": {
       "model_id": "e5e36a28b7a4416ca629311dc63a6a3a",
       "version_major": 2,
       "version_minor": 0
      },
      "text/plain": [
       "train-00000-of-00001.parquet:   0%|          | 0.00/712k [00:00<?, ?B/s]"
      ]
     },
     "metadata": {},
     "output_type": "display_data"
    },
    {
     "data": {
      "application/vnd.jupyter.widget-view+json": {
       "model_id": "b4f9ad1b303f4c349c518430ce358f09",
       "version_major": 2,
       "version_minor": 0
      },
      "text/plain": [
       "test-00000-of-00001.parquet:   0%|          | 0.00/233k [00:00<?, ?B/s]"
      ]
     },
     "metadata": {},
     "output_type": "display_data"
    },
    {
     "data": {
      "application/vnd.jupyter.widget-view+json": {
       "model_id": "5b816c7831834525b4e675eed53234ca",
       "version_major": 2,
       "version_minor": 0
      },
      "text/plain": [
       "Generating train split:   0%|          | 0/3121 [00:00<?, ? examples/s]"
      ]
     },
     "metadata": {},
     "output_type": "display_data"
    },
    {
     "data": {
      "application/vnd.jupyter.widget-view+json": {
       "model_id": "faedb93ccb2342c389caf6948ab834e8",
       "version_major": 2,
       "version_minor": 0
      },
      "text/plain": [
       "Generating test split:   0%|          | 0/1000 [00:00<?, ? examples/s]"
      ]
     },
     "metadata": {},
     "output_type": "display_data"
    }
   ],
   "source": [
    "dataset = load_dataset(\"mediabiasgroup/BABE\")"
   ]
  },
  {
   "cell_type": "code",
   "execution_count": 5,
   "metadata": {},
   "outputs": [
    {
     "data": {
      "application/vnd.jupyter.widget-view+json": {
       "model_id": "9afff26b2c8e476487bbdb7c09d60455",
       "version_major": 2,
       "version_minor": 0
      },
      "text/plain": [
       "tokenizer_config.json:   0%|          | 0.00/25.0 [00:00<?, ?B/s]"
      ]
     },
     "metadata": {},
     "output_type": "display_data"
    },
    {
     "data": {
      "application/vnd.jupyter.widget-view+json": {
       "model_id": "2f960d77137848dfaee8355ae2e081ff",
       "version_major": 2,
       "version_minor": 0
      },
      "text/plain": [
       "config.json:   0%|          | 0.00/481 [00:00<?, ?B/s]"
      ]
     },
     "metadata": {},
     "output_type": "display_data"
    },
    {
     "data": {
      "application/vnd.jupyter.widget-view+json": {
       "model_id": "62578f7bbe3b4605bfcf6514d318e7dd",
       "version_major": 2,
       "version_minor": 0
      },
      "text/plain": [
       "vocab.json:   0%|          | 0.00/899k [00:00<?, ?B/s]"
      ]
     },
     "metadata": {},
     "output_type": "display_data"
    },
    {
     "data": {
      "application/vnd.jupyter.widget-view+json": {
       "model_id": "2d310fe4e9cf4a2bb2e8fe5fd8c11f3c",
       "version_major": 2,
       "version_minor": 0
      },
      "text/plain": [
       "merges.txt:   0%|          | 0.00/456k [00:00<?, ?B/s]"
      ]
     },
     "metadata": {},
     "output_type": "display_data"
    },
    {
     "data": {
      "application/vnd.jupyter.widget-view+json": {
       "model_id": "f8251811088c483fa11027985cf782df",
       "version_major": 2,
       "version_minor": 0
      },
      "text/plain": [
       "tokenizer.json:   0%|          | 0.00/1.36M [00:00<?, ?B/s]"
      ]
     },
     "metadata": {},
     "output_type": "display_data"
    },
    {
     "data": {
      "application/vnd.jupyter.widget-view+json": {
       "model_id": "2402bb360c754d27b976c16edbe26d08",
       "version_major": 2,
       "version_minor": 0
      },
      "text/plain": [
       "model.safetensors:   0%|          | 0.00/499M [00:00<?, ?B/s]"
      ]
     },
     "metadata": {},
     "output_type": "display_data"
    },
    {
     "name": "stderr",
     "output_type": "stream",
     "text": [
      "Some weights of RobertaForSequenceClassification were not initialized from the model checkpoint at roberta-base and are newly initialized: ['classifier.dense.bias', 'classifier.dense.weight', 'classifier.out_proj.bias', 'classifier.out_proj.weight']\n",
      "You should probably TRAIN this model on a down-stream task to be able to use it for predictions and inference.\n"
     ]
    }
   ],
   "source": [
    "# Use only 'text' and 'label' columns\n",
    "def preprocess(example):\n",
    "    return tokenizer(example[\"text\"], truncation=True, padding=\"max_length\")\n",
    "# Load tokenizer and model\n",
    "model_name = \"roberta-base\"\n",
    "tokenizer = AutoTokenizer.from_pretrained(model_name)\n",
    "model = AutoModelForSequenceClassification.from_pretrained(model_name, num_labels=2)"
   ]
  },
  {
   "cell_type": "code",
   "execution_count": 6,
   "metadata": {},
   "outputs": [
    {
     "data": {
      "text/plain": [
       "RobertaForSequenceClassification(\n",
       "  (roberta): RobertaModel(\n",
       "    (embeddings): RobertaEmbeddings(\n",
       "      (word_embeddings): Embedding(50265, 768, padding_idx=1)\n",
       "      (position_embeddings): Embedding(514, 768, padding_idx=1)\n",
       "      (token_type_embeddings): Embedding(1, 768)\n",
       "      (LayerNorm): LayerNorm((768,), eps=1e-05, elementwise_affine=True)\n",
       "      (dropout): Dropout(p=0.1, inplace=False)\n",
       "    )\n",
       "    (encoder): RobertaEncoder(\n",
       "      (layer): ModuleList(\n",
       "        (0-11): 12 x RobertaLayer(\n",
       "          (attention): RobertaAttention(\n",
       "            (self): RobertaSdpaSelfAttention(\n",
       "              (query): Linear(in_features=768, out_features=768, bias=True)\n",
       "              (key): Linear(in_features=768, out_features=768, bias=True)\n",
       "              (value): Linear(in_features=768, out_features=768, bias=True)\n",
       "              (dropout): Dropout(p=0.1, inplace=False)\n",
       "            )\n",
       "            (output): RobertaSelfOutput(\n",
       "              (dense): Linear(in_features=768, out_features=768, bias=True)\n",
       "              (LayerNorm): LayerNorm((768,), eps=1e-05, elementwise_affine=True)\n",
       "              (dropout): Dropout(p=0.1, inplace=False)\n",
       "            )\n",
       "          )\n",
       "          (intermediate): RobertaIntermediate(\n",
       "            (dense): Linear(in_features=768, out_features=3072, bias=True)\n",
       "            (intermediate_act_fn): GELUActivation()\n",
       "          )\n",
       "          (output): RobertaOutput(\n",
       "            (dense): Linear(in_features=3072, out_features=768, bias=True)\n",
       "            (LayerNorm): LayerNorm((768,), eps=1e-05, elementwise_affine=True)\n",
       "            (dropout): Dropout(p=0.1, inplace=False)\n",
       "          )\n",
       "        )\n",
       "      )\n",
       "    )\n",
       "  )\n",
       "  (classifier): RobertaClassificationHead(\n",
       "    (dense): Linear(in_features=768, out_features=768, bias=True)\n",
       "    (dropout): Dropout(p=0.1, inplace=False)\n",
       "    (out_proj): Linear(in_features=768, out_features=2, bias=True)\n",
       "  )\n",
       ")"
      ]
     },
     "execution_count": 6,
     "metadata": {},
     "output_type": "execute_result"
    }
   ],
   "source": [
    "device = torch.device(\"cuda:0\")  # Or \"cuda:1\" if that's your best GPU\n",
    "model.to(device)"
   ]
  },
  {
   "cell_type": "code",
   "execution_count": 7,
   "metadata": {},
   "outputs": [
    {
     "data": {
      "application/vnd.jupyter.widget-view+json": {
       "model_id": "5a074aeaa97f46fa8cff0e9162bf1101",
       "version_major": 2,
       "version_minor": 0
      },
      "text/plain": [
       "Map:   0%|          | 0/3121 [00:00<?, ? examples/s]"
      ]
     },
     "metadata": {},
     "output_type": "display_data"
    },
    {
     "data": {
      "application/vnd.jupyter.widget-view+json": {
       "model_id": "1c39f4542b784379a995102cd4d4f324",
       "version_major": 2,
       "version_minor": 0
      },
      "text/plain": [
       "Map:   0%|          | 0/1000 [00:00<?, ? examples/s]"
      ]
     },
     "metadata": {},
     "output_type": "display_data"
    }
   ],
   "source": [
    "# Preprocess dataset\n",
    "encoded_dataset = dataset.map(preprocess, batched=True)\n",
    "encoded_dataset = encoded_dataset.rename_column(\"label\", \"labels\")\n",
    "encoded_dataset.set_format(type=\"torch\", columns=[\"input_ids\", \"attention_mask\", \"labels\"])"
   ]
  },
  {
   "cell_type": "code",
   "execution_count": 8,
   "metadata": {},
   "outputs": [
    {
     "data": {
      "application/vnd.jupyter.widget-view+json": {
       "model_id": "ec9ae176edd8443f950e6a5dc9202784",
       "version_major": 2,
       "version_minor": 0
      },
      "text/plain": [
       "Downloading builder script:   0%|          | 0.00/6.79k [00:00<?, ?B/s]"
      ]
     },
     "metadata": {},
     "output_type": "display_data"
    }
   ],
   "source": [
    "# Load evaluation metrics\n",
    "accuracy = evaluate.load(\"accuracy\")\n",
    "f1 = evaluate.load(\"f1\")"
   ]
  },
  {
   "cell_type": "code",
   "execution_count": 9,
   "metadata": {},
   "outputs": [],
   "source": [
    "def compute_metrics(pred):\n",
    "    logits, labels = pred\n",
    "    preds = np.argmax(logits, axis=1)\n",
    "    return {\n",
    "        \"accuracy\": accuracy.compute(predictions=preds, references=labels)[\"accuracy\"],\n",
    "        \"f1\": f1.compute(predictions=preds, references=labels, average=\"weighted\")[\"f1\"]\n",
    "    }"
   ]
  },
  {
   "cell_type": "code",
   "execution_count": 10,
   "metadata": {},
   "outputs": [],
   "source": [
    "# Training configuration\n",
    "training_args = TrainingArguments(\n",
    "    output_dir=\"./roberta-babe\",\n",
    "    eval_strategy=\"epoch\",\n",
    "    save_strategy=\"epoch\",\n",
    "    learning_rate=2e-5,\n",
    "    per_device_train_batch_size=16,\n",
    "    no_cuda=False,\n",
    "    per_device_eval_batch_size=64,\n",
    "    num_train_epochs=3,\n",
    "    weight_decay=0.01,\n",
    "    load_best_model_at_end=True,\n",
    "    metric_for_best_model=\"f1\",\n",
    "    logging_dir=\"./logs\",\n",
    "    logging_steps=10,\n",
    ")"
   ]
  },
  {
   "cell_type": "code",
   "execution_count": 11,
   "metadata": {},
   "outputs": [
    {
     "name": "stderr",
     "output_type": "stream",
     "text": [
      "/tmp/ipykernel_2076135/1945827288.py:2: FutureWarning: `tokenizer` is deprecated and will be removed in version 5.0.0 for `Trainer.__init__`. Use `processing_class` instead.\n",
      "  trainer = Trainer(\n"
     ]
    }
   ],
   "source": [
    "# Trainer\n",
    "trainer = Trainer(\n",
    "    model=model,\n",
    "    args=training_args,\n",
    "    train_dataset=encoded_dataset[\"train\"],\n",
    "    eval_dataset=encoded_dataset[\"test\"],\n",
    "    tokenizer=tokenizer,\n",
    "    compute_metrics=compute_metrics,\n",
    ")"
   ]
  },
  {
   "cell_type": "code",
   "execution_count": 12,
   "metadata": {},
   "outputs": [
    {
     "name": "stderr",
     "output_type": "stream",
     "text": [
      "/home/himel/miniconda3/envs/graco/lib/python3.10/site-packages/torch/nn/parallel/_functions.py:68: UserWarning: Was asked to gather along dimension 0, but all input tensors were scalars; will instead unsqueeze and return a vector.\n",
      "  warnings.warn('Was asked to gather along dimension 0, but all '\n"
     ]
    },
    {
     "data": {
      "text/html": [
       "\n",
       "    <div>\n",
       "      \n",
       "      <progress value='294' max='294' style='width:300px; height:20px; vertical-align: middle;'></progress>\n",
       "      [294/294 02:15, Epoch 3/3]\n",
       "    </div>\n",
       "    <table border=\"1\" class=\"dataframe\">\n",
       "  <thead>\n",
       " <tr style=\"text-align: left;\">\n",
       "      <th>Epoch</th>\n",
       "      <th>Training Loss</th>\n",
       "      <th>Validation Loss</th>\n",
       "      <th>Accuracy</th>\n",
       "      <th>F1</th>\n",
       "    </tr>\n",
       "  </thead>\n",
       "  <tbody>\n",
       "    <tr>\n",
       "      <td>1</td>\n",
       "      <td>0.328400</td>\n",
       "      <td>0.399587</td>\n",
       "      <td>0.833000</td>\n",
       "      <td>0.833197</td>\n",
       "    </tr>\n",
       "    <tr>\n",
       "      <td>2</td>\n",
       "      <td>0.300600</td>\n",
       "      <td>0.340090</td>\n",
       "      <td>0.852000</td>\n",
       "      <td>0.852337</td>\n",
       "    </tr>\n",
       "    <tr>\n",
       "      <td>3</td>\n",
       "      <td>0.230700</td>\n",
       "      <td>0.393154</td>\n",
       "      <td>0.852000</td>\n",
       "      <td>0.852483</td>\n",
       "    </tr>\n",
       "  </tbody>\n",
       "</table><p>"
      ],
      "text/plain": [
       "<IPython.core.display.HTML object>"
      ]
     },
     "metadata": {},
     "output_type": "display_data"
    },
    {
     "name": "stderr",
     "output_type": "stream",
     "text": [
      "/home/himel/miniconda3/envs/graco/lib/python3.10/site-packages/torch/nn/parallel/_functions.py:68: UserWarning: Was asked to gather along dimension 0, but all input tensors were scalars; will instead unsqueeze and return a vector.\n",
      "  warnings.warn('Was asked to gather along dimension 0, but all '\n",
      "/home/himel/miniconda3/envs/graco/lib/python3.10/site-packages/torch/nn/parallel/_functions.py:68: UserWarning: Was asked to gather along dimension 0, but all input tensors were scalars; will instead unsqueeze and return a vector.\n",
      "  warnings.warn('Was asked to gather along dimension 0, but all '\n",
      "/home/himel/miniconda3/envs/graco/lib/python3.10/site-packages/torch/nn/parallel/_functions.py:68: UserWarning: Was asked to gather along dimension 0, but all input tensors were scalars; will instead unsqueeze and return a vector.\n",
      "  warnings.warn('Was asked to gather along dimension 0, but all '\n"
     ]
    },
    {
     "data": {
      "text/plain": [
       "TrainOutput(global_step=294, training_loss=0.321795669339952, metrics={'train_runtime': 136.959, 'train_samples_per_second': 68.364, 'train_steps_per_second': 2.147, 'total_flos': 2463508811335680.0, 'train_loss': 0.321795669339952, 'epoch': 3.0})"
      ]
     },
     "execution_count": 12,
     "metadata": {},
     "output_type": "execute_result"
    }
   ],
   "source": [
    "# Train\n",
    "trainer.train()"
   ]
  },
  {
   "cell_type": "code",
   "execution_count": 13,
   "metadata": {},
   "outputs": [],
   "source": [
    "# Save model\n",
    "trainer.save_model(\"./roberta-babe\")"
   ]
  },
  {
   "cell_type": "code",
   "execution_count": 14,
   "metadata": {},
   "outputs": [
    {
     "name": "stderr",
     "output_type": "stream",
     "text": [
      "Device set to use cuda:0\n"
     ]
    }
   ],
   "source": [
    "from transformers import pipeline\n",
    "\n",
    "bias_detector = pipeline(\"text-classification\", model=\"./roberta-babe\", tokenizer=\"roberta-base\")"
   ]
  },
  {
   "cell_type": "code",
   "execution_count": 15,
   "metadata": {},
   "outputs": [
    {
     "name": "stdout",
     "output_type": "stream",
     "text": [
      "[{'label': 'LABEL_0', 'score': 0.9305679798126221}]\n",
      "[{'label': 'LABEL_1', 'score': 0.9843938946723938}]\n"
     ]
    }
   ],
   "source": [
    "print(bias_detector(\"The Earth is a planet.\"))\n",
    "print(bias_detector(\"Immigrants are criminals.\"))"
   ]
  },
  {
   "cell_type": "markdown",
   "metadata": {},
   "source": [
    "## Evaluation"
   ]
  },
  {
   "cell_type": "code",
   "execution_count": 67,
   "metadata": {},
   "outputs": [],
   "source": [
    "from sklearn.metrics import accuracy_score, precision_recall_fscore_support"
   ]
  },
  {
   "cell_type": "code",
   "execution_count": 68,
   "metadata": {},
   "outputs": [],
   "source": [
    "# Load test split from BABE\n",
    "data = load_dataset(\"mediabiasgroup/BABE\", split=\"test\")"
   ]
  },
  {
   "cell_type": "code",
   "execution_count": 22,
   "metadata": {},
   "outputs": [
    {
     "name": "stdout",
     "output_type": "stream",
     "text": [
      "Accuracy:  0.8520\n",
      "Precision: 0.9237\n",
      "Recall:    0.8014\n",
      "F1 Score:  0.8582\n"
     ]
    }
   ],
   "source": [
    "# Print results\n",
    "print(f\"Accuracy:  {accuracy:.4f}\")\n",
    "print(f\"Precision: {precision:.4f}\")\n",
    "print(f\"Recall:    {recall:.4f}\")\n",
    "print(f\"F1 Score:  {f1:.4f}\")"
   ]
  },
  {
   "cell_type": "code",
   "execution_count": 66,
   "metadata": {},
   "outputs": [
    {
     "name": "stderr",
     "output_type": "stream",
     "text": [
      "Hardware accelerator e.g. GPU is available in the environment, but no `device` argument is passed to the `Pipeline` object. Model will be on CPU.\n"
     ]
    }
   ],
   "source": [
    "# Use a pipeline as a high-level helper\n",
    "from transformers import pipeline\n",
    "\n",
    "detect = pipeline(\"text-classification\", model=\"himel7/bias-detector\")"
   ]
  },
  {
   "cell_type": "code",
   "execution_count": 70,
   "metadata": {},
   "outputs": [],
   "source": [
    "# Prepare predictions and ground truth\n",
    "true_labels = []\n",
    "pred_labels = []\n",
    "\n",
    "for example in data:\n",
    "    text = example[\"text\"]\n",
    "    true_label = example[\"label\"]\n",
    "    \n",
    "    # Run prediction\n",
    "    prediction = detect(text)[0]\n",
    "    pred_label = 1 if prediction[\"label\"] == \"LABEL_1\" else 0\n",
    "\n",
    "    true_labels.append(true_label)\n",
    "    pred_labels.append(pred_label)"
   ]
  },
  {
   "cell_type": "code",
   "execution_count": 73,
   "metadata": {},
   "outputs": [],
   "source": [
    "# Compute metrics\n",
    "accuracy2 = accuracy_score(true_labels, pred_labels)\n",
    "precision2, recall2, f1_2, _ = precision_recall_fscore_support(true_labels, pred_labels, average=\"binary\")"
   ]
  },
  {
   "cell_type": "code",
   "execution_count": 74,
   "metadata": {},
   "outputs": [
    {
     "name": "stdout",
     "output_type": "stream",
     "text": [
      "Accuracy:  0.8520\n",
      "Precision: 0.9237\n",
      "Recall:    0.8014\n",
      "F1 Score:  0.8582\n"
     ]
    }
   ],
   "source": [
    "# Print results\n",
    "print(f\"Accuracy:  {accuracy2:.4f}\")\n",
    "print(f\"Precision: {precision2:.4f}\")\n",
    "print(f\"Recall:    {recall2:.4f}\")\n",
    "print(f\"F1 Score:  {f1_2:.4f}\")"
   ]
  },
  {
   "cell_type": "code",
   "execution_count": 80,
   "metadata": {},
   "outputs": [
    {
     "name": "stderr",
     "output_type": "stream",
     "text": [
      "Hardware accelerator e.g. GPU is available in the environment, but no `device` argument is passed to the `Pipeline` object. Model will be on CPU.\n"
     ]
    }
   ],
   "source": [
    "piper = pipeline(\"text-classification\", model=\"mediabiasgroup/da-roberta-babe-ft\")"
   ]
  },
  {
   "cell_type": "code",
   "execution_count": 83,
   "metadata": {},
   "outputs": [],
   "source": [
    "r=piper(\"Trump is a moron.\")"
   ]
  },
  {
   "cell_type": "code",
   "execution_count": 84,
   "metadata": {},
   "outputs": [
    {
     "data": {
      "text/plain": [
       "[{'label': 'LABEL_1', 'score': 0.966972827911377}]"
      ]
     },
     "execution_count": 84,
     "metadata": {},
     "output_type": "execute_result"
    }
   ],
   "source": [
    "r"
   ]
  },
  {
   "cell_type": "markdown",
   "metadata": {},
   "source": [
    "## K-fold Cross Validation on Himel's model"
   ]
  },
  {
   "cell_type": "code",
   "execution_count": 1,
   "metadata": {},
   "outputs": [
    {
     "name": "stderr",
     "output_type": "stream",
     "text": [
      "/Library/Frameworks/Python.framework/Versions/3.8/lib/python3.8/site-packages/tqdm/auto.py:21: TqdmWarning: IProgress not found. Please update jupyter and ipywidgets. See https://ipywidgets.readthedocs.io/en/stable/user_install.html\n",
      "  from .autonotebook import tqdm as notebook_tqdm\n"
     ]
    }
   ],
   "source": [
    "from datasets import load_dataset, concatenate_datasets\n",
    "from sklearn.model_selection import KFold\n",
    "from transformers import pipeline\n",
    "from sklearn.metrics import accuracy_score, precision_recall_fscore_support\n",
    "import numpy as np"
   ]
  },
  {
   "cell_type": "code",
   "execution_count": 2,
   "metadata": {},
   "outputs": [],
   "source": [
    "# Load the full BABE dataset (concatenate train and test)\n",
    "babe_train = load_dataset(\"mediabiasgroup/BABE\", split=\"train\")\n",
    "babe_test = load_dataset(\"mediabiasgroup/BABE\", split=\"test\")\n",
    "full_dataset = concatenate_datasets([babe_train, babe_test])"
   ]
  },
  {
   "cell_type": "code",
   "execution_count": 3,
   "metadata": {},
   "outputs": [],
   "source": [
    "# Convert to list for indexing\n",
    "examples = full_dataset[\"text\"]\n",
    "labels = full_dataset[\"label\"]"
   ]
  },
  {
   "cell_type": "code",
   "execution_count": 4,
   "metadata": {},
   "outputs": [
    {
     "data": {
      "text/plain": [
       "4121"
      ]
     },
     "execution_count": 4,
     "metadata": {},
     "output_type": "execute_result"
    }
   ],
   "source": [
    "len(examples)"
   ]
  },
  {
   "cell_type": "code",
   "execution_count": 5,
   "metadata": {},
   "outputs": [
    {
     "name": "stderr",
     "output_type": "stream",
     "text": [
      "Hardware accelerator e.g. GPU is available in the environment, but no `device` argument is passed to the `Pipeline` object. Model will be on CPU.\n"
     ]
    }
   ],
   "source": [
    "# Initialize model pipeline (hosted on HF Hub)\n",
    "bias_detector = pipeline(\"text-classification\", model=\"himel7/bias-detector\", tokenizer=\"roberta-base\")"
   ]
  },
  {
   "cell_type": "code",
   "execution_count": 6,
   "metadata": {},
   "outputs": [],
   "source": [
    "# K-Fold Cross-Validation\n",
    "k = 5\n",
    "kf = KFold(n_splits=k, shuffle=True, random_state=42)\n",
    "\n",
    "all_preds_A = []\n",
    "all_trues_A = []\n",
    "\n",
    "fold_scores = []"
   ]
  },
  {
   "cell_type": "code",
   "execution_count": 7,
   "metadata": {},
   "outputs": [
    {
     "name": "stdout",
     "output_type": "stream",
     "text": [
      "\n",
      "🔁 Fold 1/5\n",
      "Accuracy:  0.9200  |  Precision: 0.9770  |  Recall: 0.8833  |  F1: 0.9278\n",
      "\n",
      "🔁 Fold 2/5\n",
      "Accuracy:  0.9066  |  Precision: 0.9456  |  Recall: 0.8811  |  F1: 0.9122\n",
      "\n",
      "🔁 Fold 3/5\n",
      "Accuracy:  0.9248  |  Precision: 0.9587  |  Recall: 0.8977  |  F1: 0.9272\n",
      "\n",
      "🔁 Fold 4/5\n",
      "Accuracy:  0.9248  |  Precision: 0.9564  |  Recall: 0.9065  |  F1: 0.9308\n",
      "\n",
      "🔁 Fold 5/5\n",
      "Accuracy:  0.9248  |  Precision: 0.9697  |  Recall: 0.8946  |  F1: 0.9306\n"
     ]
    }
   ],
   "source": [
    "for fold, (train_index, test_index) in enumerate(kf.split(examples)):\n",
    "    print(f\"\\n🔁 Fold {fold+1}/{k}\")\n",
    "\n",
    "    test_texts = [examples[i] for i in test_index]\n",
    "    true_labels = [labels[i] for i in test_index]\n",
    "\n",
    "    pred_labels = []\n",
    "    for text in test_texts:\n",
    "        result = bias_detector(text, truncation=True)[0]\n",
    "        pred = 1 if result[\"label\"] == \"LABEL_1\" else 0\n",
    "        pred_labels.append(pred)\n",
    "\n",
    "    # Evaluate\n",
    "    accuracy = accuracy_score(true_labels, pred_labels)\n",
    "    precision, recall, f1, _ = precision_recall_fscore_support(true_labels, pred_labels, average=\"binary\")\n",
    "\n",
    "    print(f\"Accuracy:  {accuracy:.4f}  |  Precision: {precision:.4f}  |  Recall: {recall:.4f}  |  F1: {f1:.4f}\")\n",
    "    fold_scores.append((accuracy, precision, recall, f1))\n",
    "\n",
    "    all_preds_A.extend(pred_labels)\n",
    "    all_trues_A.extend(true_labels)\n",
    "\n",
    "# Average metrics across folds\n",
    "avg_metrics = np.mean(fold_scores, axis=0)"
   ]
  },
  {
   "cell_type": "code",
   "execution_count": 9,
   "metadata": {},
   "outputs": [
    {
     "name": "stdout",
     "output_type": "stream",
     "text": [
      "\n",
      "📊 Average Metrics Across Folds\n",
      "Accuracy:  0.9202\n",
      "Precision: 0.9615\n",
      "Recall:    0.8927\n",
      "F1 Score:  0.9257\n"
     ]
    }
   ],
   "source": [
    "print(\"\\n📊 Average Metrics Across Folds\")\n",
    "print(f\"Accuracy:  {avg_metrics[0]:.4f}\")\n",
    "print(f\"Precision: {avg_metrics[1]:.4f}\")\n",
    "print(f\"Recall:    {avg_metrics[2]:.4f}\")\n",
    "print(f\"F1 Score:  {avg_metrics[3]:.4f}\")"
   ]
  },
  {
   "cell_type": "code",
   "execution_count": 67,
   "metadata": {},
   "outputs": [
    {
     "data": {
      "image/png": "[encoded data removed]",
      "text/plain": [
       "<Figure size 500x300 with 1 Axes>"
      ]
     },
     "metadata": {},
     "output_type": "display_data"
    }
   ],
   "source": [
    "import matplotlib.pyplot as plt\n",
    "\n",
    "# Replace these with your real F1 scores from the k-fold evaluation\n",
    "f1_scores = [0.9278, 0.9122, 0.9272, 0.9308, 0.9306]\n",
    "f1_scores2 = [0.8375, 0.8199, 0.8465, 0.8435, 0.8343]\n",
    "\n",
    "plt.figure(figsize=(5, 3))\n",
    "plt.plot(range(1, len(f1_scores) + 1), f1_scores, marker='o', linestyle='-', color='blue', label='BiasDetector')\n",
    "plt.plot(range(1, len(f1_scores2) + 1), f1_scores2, marker='o', linestyle='-', color='red', label='DARoberta')\n",
    "#plt.title('F1 Score per K-Fold')\n",
    "plt.xlabel('Fold')\n",
    "plt.ylabel('F1 Score')\n",
    "plt.xticks(range(1, len(f1_scores) + 1))\n",
    "plt.ylim(min(f1_scores2) - 0.01, max(f1_scores) + 0.01)\n",
    "plt.legend()\n",
    "plt.tight_layout()\n",
    "plt.show()\n"
   ]
  },
  {
   "cell_type": "code",
   "execution_count": 145,
   "metadata": {},
   "outputs": [
    {
     "name": "stdout",
     "output_type": "stream",
     "text": [
      "Mean Macro F1-score: 0.9257\n",
      "Standard Error: 0.0035\n"
     ]
    }
   ],
   "source": [
    "import numpy as np\n",
    "\n",
    "f1_scores = [0.9278, 0.9122, 0.9272, 0.9308, 0.9306]\n",
    "mean_f1 = np.mean(f1_scores)\n",
    "std_f1 = np.std(f1_scores, ddof=1)  # sample standard deviation\n",
    "se_f1 = std_f1 / np.sqrt(len(f1_scores))\n",
    "\n",
    "print(f\"Mean Macro F1-score: {mean_f1:.4f}\")\n",
    "print(f\"Standard Error: {se_f1:.4f}\")"
   ]
  },
  {
   "cell_type": "markdown",
   "metadata": {},
   "source": [
    "## K-fold evaluation on Spinde's model:"
   ]
  },
  {
   "cell_type": "code",
   "execution_count": 10,
   "metadata": {},
   "outputs": [
    {
     "name": "stderr",
     "output_type": "stream",
     "text": [
      "Hardware accelerator e.g. GPU is available in the environment, but no `device` argument is passed to the `Pipeline` object. Model will be on CPU.\n"
     ]
    }
   ],
   "source": [
    "# Initialize model pipeline (hosted on HF Hub)\n",
    "bias_detector2 = pipeline(\"text-classification\", model=\"mediabiasgroup/da-roberta-babe-ft\", tokenizer=\"roberta-base\")"
   ]
  },
  {
   "cell_type": "code",
   "execution_count": 11,
   "metadata": {},
   "outputs": [],
   "source": [
    "# K-Fold Cross-Validation\n",
    "k = 5\n",
    "kf = KFold(n_splits=k, shuffle=True, random_state=42)\n",
    "\n",
    "all_preds2 = []\n",
    "all_trues2 = []\n",
    "\n",
    "fold_scores2 = []"
   ]
  },
  {
   "cell_type": "code",
   "execution_count": 12,
   "metadata": {},
   "outputs": [
    {
     "name": "stdout",
     "output_type": "stream",
     "text": [
      "\n",
      "🔁 Fold 1/5\n",
      "Accuracy:  0.8339  |  Precision: 0.9725  |  Recall: 0.7354  |  F1: 0.8375\n",
      "\n",
      "🔁 Fold 2/5\n",
      "Accuracy:  0.8240  |  Precision: 0.9402  |  Recall: 0.7269  |  F1: 0.8199\n",
      "\n",
      "🔁 Fold 3/5\n",
      "Accuracy:  0.8544  |  Precision: 0.9678  |  Recall: 0.7523  |  F1: 0.8465\n",
      "\n",
      "🔁 Fold 4/5\n",
      "Accuracy:  0.8447  |  Precision: 0.9637  |  Recall: 0.7500  |  F1: 0.8435\n",
      "\n",
      "🔁 Fold 5/5\n",
      "Accuracy:  0.8337  |  Precision: 0.9530  |  Recall: 0.7419  |  F1: 0.8343\n"
     ]
    }
   ],
   "source": [
    "for fold, (train_index, test_index) in enumerate(kf.split(examples)):\n",
    "    print(f\"\\n🔁 Fold {fold+1}/{k}\")\n",
    "\n",
    "    test_texts = [examples[i] for i in test_index]\n",
    "    true_labels = [labels[i] for i in test_index]\n",
    "\n",
    "    pred_labels = []\n",
    "    for text in test_texts:\n",
    "        result = bias_detector2(text, truncation=True)[0]\n",
    "        pred = 1 if result[\"label\"] == \"LABEL_1\" else 0\n",
    "        pred_labels.append(pred)\n",
    "\n",
    "    # Evaluate\n",
    "    accuracy = accuracy_score(true_labels, pred_labels)\n",
    "    precision, recall, f1, _ = precision_recall_fscore_support(true_labels, pred_labels, average=\"binary\")\n",
    "\n",
    "    print(f\"Accuracy:  {accuracy:.4f}  |  Precision: {precision:.4f}  |  Recall: {recall:.4f}  |  F1: {f1:.4f}\")\n",
    "    fold_scores2.append((accuracy, precision, recall, f1))\n",
    "\n",
    "    all_preds2.extend(pred_labels)\n",
    "    all_trues2.extend(true_labels)"
   ]
  },
  {
   "cell_type": "code",
   "execution_count": 13,
   "metadata": {},
   "outputs": [],
   "source": [
    "# Average metrics across folds\n",
    "avg_metrics2 = np.mean(fold_scores2, axis=0)"
   ]
  },
  {
   "cell_type": "code",
   "execution_count": 14,
   "metadata": {},
   "outputs": [
    {
     "name": "stdout",
     "output_type": "stream",
     "text": [
      "\n",
      "📊 Average Metrics Across Folds\n",
      "Accuracy:  0.8381\n",
      "Precision: 0.9594\n",
      "Recall:    0.7413\n",
      "F1 Score:  0.8364\n"
     ]
    }
   ],
   "source": [
    "print(\"\\n📊 Average Metrics Across Folds\")\n",
    "print(f\"Accuracy:  {avg_metrics2[0]:.4f}\")\n",
    "print(f\"Precision: {avg_metrics2[1]:.4f}\")\n",
    "print(f\"Recall:    {avg_metrics2[2]:.4f}\")\n",
    "print(f\"F1 Score:  {avg_metrics2[3]:.4f}\")"
   ]
  },
  {
   "cell_type": "code",
   "execution_count": 146,
   "metadata": {},
   "outputs": [
    {
     "name": "stdout",
     "output_type": "stream",
     "text": [
      "Mean Macro F1-score: 0.8363\n",
      "Standard Error: 0.0046\n"
     ]
    }
   ],
   "source": [
    "import numpy as np\n",
    "\n",
    "f1_scores = [0.8375, 0.8199, 0.8465, 0.8435, 0.8343]\n",
    "mean_f1 = np.mean(f1_scores)\n",
    "std_f1 = np.std(f1_scores, ddof=1)  # sample standard deviation\n",
    "se_f1 = std_f1 / np.sqrt(len(f1_scores))\n",
    "\n",
    "print(f\"Mean Macro F1-score: {mean_f1:.4f}\")\n",
    "print(f\"Standard Error: {se_f1:.4f}\")"
   ]
  },
  {
   "cell_type": "code",
   "execution_count": 30,
   "metadata": {},
   "outputs": [
    {
     "name": "stderr",
     "output_type": "stream",
     "text": [
      "Hardware accelerator e.g. GPU is available in the environment, but no `device` argument is passed to the `Pipeline` object. Model will be on CPU.\n"
     ]
    }
   ],
   "source": [
    "bias_detector3 = pipeline(\"text-classification\", model=\"mediabiasgroup/da-roberta-pt\", tokenizer=\"roberta-base\")"
   ]
  },
  {
   "cell_type": "code",
   "execution_count": 31,
   "metadata": {},
   "outputs": [
    {
     "name": "stdout",
     "output_type": "stream",
     "text": [
      "\n",
      "🔁 Fold 1/5\n",
      "Accuracy:  0.5818  |  Precision: 0.5818  |  Recall: 1.0000  |  F1: 0.7356\n",
      "\n",
      "🔁 Fold 2/5\n",
      "Accuracy:  0.5510  |  Precision: 0.5510  |  Recall: 1.0000  |  F1: 0.7105\n",
      "\n",
      "🔁 Fold 3/5\n",
      "Accuracy:  0.5340  |  Precision: 0.5340  |  Recall: 1.0000  |  F1: 0.6962\n",
      "\n",
      "🔁 Fold 4/5\n",
      "Accuracy:  0.5583  |  Precision: 0.5583  |  Recall: 1.0000  |  F1: 0.7165\n",
      "\n",
      "🔁 Fold 5/5\n",
      "Accuracy:  0.5643  |  Precision: 0.5643  |  Recall: 1.0000  |  F1: 0.7215\n"
     ]
    }
   ],
   "source": [
    "all_preds3 = []\n",
    "all_trues3 = []\n",
    "\n",
    "fold_scores3 = []\n",
    "\n",
    "for fold, (train_index, test_index) in enumerate(kf.split(examples)):\n",
    "    print(f\"\\n🔁 Fold {fold+1}/{k}\")\n",
    "\n",
    "    test_texts = [examples[i] for i in test_index]\n",
    "    true_labels = [labels[i] for i in test_index]\n",
    "\n",
    "    pred_labels = []\n",
    "    for text in test_texts:\n",
    "        result = bias_detector3(text, truncation=True)[0]\n",
    "        pred = 1 if result[\"label\"] == \"LABEL_1\" else 0\n",
    "        pred_labels.append(pred)\n",
    "\n",
    "    # Evaluate\n",
    "    accuracy = accuracy_score(true_labels, pred_labels)\n",
    "    precision, recall, f1, _ = precision_recall_fscore_support(true_labels, pred_labels, average=\"binary\")\n",
    "\n",
    "    print(f\"Accuracy:  {accuracy:.4f}  |  Precision: {precision:.4f}  |  Recall: {recall:.4f}  |  F1: {f1:.4f}\")\n",
    "    fold_scores3.append((accuracy, precision, recall, f1))\n",
    "\n",
    "    all_preds3.extend(pred_labels)\n",
    "    all_trues3.extend(true_labels)\n",
    "\n",
    "# Average metrics across folds\n",
    "avg_metrics3 = np.mean(fold_scores3, axis=0)\n"
   ]
  },
  {
   "cell_type": "code",
   "execution_count": 32,
   "metadata": {},
   "outputs": [
    {
     "name": "stdout",
     "output_type": "stream",
     "text": [
      "\n",
      "📊 Average Metrics Across Folds\n",
      "Accuracy:  0.5579\n",
      "Precision: 0.5579\n",
      "Recall:    1.0000\n",
      "F1 Score:  0.7161\n"
     ]
    }
   ],
   "source": [
    "print(\"\\n📊 Average Metrics Across Folds\")\n",
    "print(f\"Accuracy:  {avg_metrics3[0]:.4f}\")\n",
    "print(f\"Precision: {avg_metrics3[1]:.4f}\")\n",
    "print(f\"Recall:    {avg_metrics3[2]:.4f}\")\n",
    "print(f\"F1 Score:  {avg_metrics3[3]:.4f}\")"
   ]
  },
  {
   "cell_type": "markdown",
   "metadata": {},
   "source": [
    "## BIAS Type Classifier- Maximus Powers"
   ]
  },
  {
   "cell_type": "code",
   "execution_count": 138,
   "metadata": {},
   "outputs": [
    {
     "name": "stderr",
     "output_type": "stream",
     "text": [
      "Hardware accelerator e.g. GPU is available in the environment, but no `device` argument is passed to the `Pipeline` object. Model will be on CPU.\n"
     ]
    }
   ],
   "source": [
    "bias_type = pipeline(\"text-classification\", model=\"maximuspowers/bias-type-classifier\")"
   ]
  },
  {
   "cell_type": "code",
   "execution_count": 143,
   "metadata": {},
   "outputs": [],
   "source": [
    "r=bias_type(\"The brave leader saved the country.\")"
   ]
  },
  {
   "cell_type": "code",
   "execution_count": 144,
   "metadata": {},
   "outputs": [
    {
     "data": {
      "text/plain": [
       "[{'label': 'nationality', 'score': 0.9486182928085327}]"
      ]
     },
     "execution_count": 144,
     "metadata": {},
     "output_type": "execute_result"
    }
   ],
   "source": [
    "r"
   ]
  },
  {
   "cell_type": "markdown",
   "metadata": {},
   "source": [
    "### Statistical Significance Testing"
   ]
  },
  {
   "cell_type": "code",
   "execution_count": 18,
   "metadata": {},
   "outputs": [],
   "source": [
    "from statsmodels.stats.contingency_tables import mcnemar"
   ]
  },
  {
   "cell_type": "code",
   "execution_count": 19,
   "metadata": {},
   "outputs": [],
   "source": [
    "# Sanity check: all predictions should be on the same test set\n",
    "assert all_trues_A == all_trues2 or np.array_equal(all_trues_A, all_trues2)"
   ]
  },
  {
   "cell_type": "code",
   "execution_count": 20,
   "metadata": {},
   "outputs": [],
   "source": [
    "# Construct the contingency table\n",
    "b = c = 0\n",
    "for y_true, pred_a, pred_b in zip(all_trues_A, all_preds_A, all_preds2):\n",
    "    correct_a = pred_a == y_true\n",
    "    correct_b = pred_b == y_true\n",
    "\n",
    "    if correct_a and not correct_b:\n",
    "        b += 1  # A correct, B wrong\n",
    "    elif not correct_a and correct_b:\n",
    "        c += 1  # B correct, A wrong"
   ]
  },
  {
   "cell_type": "code",
   "execution_count": 21,
   "metadata": {},
   "outputs": [],
   "source": [
    "# McNemar contingency table: [[both_correct, A_correct_only], [B_correct_only, both_wrong]]\n",
    "table = [[0, b], [c, 0]]"
   ]
  },
  {
   "cell_type": "code",
   "execution_count": 22,
   "metadata": {},
   "outputs": [],
   "source": [
    "# Perform McNemar's test\n",
    "result = mcnemar(table, exact=False, correction=True)"
   ]
  },
  {
   "cell_type": "code",
   "execution_count": 33,
   "metadata": {},
   "outputs": [
    {
     "name": "stdout",
     "output_type": "stream",
     "text": [
      "\n",
      "📊 McNemar’s Test Results\n",
      "Chi-squared statistic: 220.0950\n",
      "P-value: 8.62e-50\n"
     ]
    }
   ],
   "source": [
    "print(\"\\n📊 McNemar’s Test Results\")\n",
    "print(f\"Chi-squared statistic: {result.statistic:.4f}\")\n",
    "print(f\"P-value: {result.pvalue:.2e}\")"
   ]
  },
  {
   "cell_type": "code",
   "execution_count": 24,
   "metadata": {},
   "outputs": [
    {
     "name": "stdout",
     "output_type": "stream",
     "text": [
      "✅ Difference is statistically significant (p < 0.05)\n"
     ]
    }
   ],
   "source": [
    "if result.pvalue < 0.05:\n",
    "    print(\"✅ Difference is statistically significant (p < 0.05)\")\n",
    "else:\n",
    "    print(\"❌ No statistically significant difference (p ≥ 0.05)\")"
   ]
  },
  {
   "cell_type": "markdown",
   "metadata": {},
   "source": [
    "### Full Evaluation Code for Per Fold Statistical Significance Testing"
   ]
  },
  {
   "cell_type": "code",
   "execution_count": 34,
   "metadata": {},
   "outputs": [],
   "source": [
    "from datasets import load_dataset, concatenate_datasets\n",
    "from sklearn.model_selection import KFold\n",
    "from transformers import pipeline\n",
    "from sklearn.metrics import accuracy_score, precision_recall_fscore_support\n",
    "from statsmodels.stats.contingency_tables import mcnemar\n",
    "import numpy as np\n",
    "from tqdm import tqdm"
   ]
  },
  {
   "cell_type": "code",
   "execution_count": 35,
   "metadata": {},
   "outputs": [],
   "source": [
    "# Load the full BABE dataset\n",
    "babe_train = load_dataset(\"mediabiasgroup/BABE\", split=\"train\")\n",
    "babe_test = load_dataset(\"mediabiasgroup/BABE\", split=\"test\")\n",
    "full_dataset = concatenate_datasets([babe_train, babe_test])"
   ]
  },
  {
   "cell_type": "code",
   "execution_count": 36,
   "metadata": {},
   "outputs": [],
   "source": [
    "examples = full_dataset[\"text\"]\n",
    "labels = full_dataset[\"label\"]"
   ]
  },
  {
   "cell_type": "code",
   "execution_count": 38,
   "metadata": {},
   "outputs": [
    {
     "name": "stderr",
     "output_type": "stream",
     "text": [
      "Hardware accelerator e.g. GPU is available in the environment, but no `device` argument is passed to the `Pipeline` object. Model will be on CPU.\n",
      "Hardware accelerator e.g. GPU is available in the environment, but no `device` argument is passed to the `Pipeline` object. Model will be on CPU.\n"
     ]
    }
   ],
   "source": [
    "# Initialize both Hugging Face pipelines\n",
    "model_names = {\n",
    "    \"himel7\": \"himel7/bias-detector\",\n",
    "    \"daroberta\": \"mediabiasgroup/da-roberta-babe-ft\"\n",
    "}\n",
    "pipelines = {\n",
    "    name: pipeline(\"text-classification\", model=model, tokenizer=\"roberta-base\")\n",
    "    for name, model in model_names.items()\n",
    "}"
   ]
  },
  {
   "cell_type": "code",
   "execution_count": 39,
   "metadata": {},
   "outputs": [],
   "source": [
    "# Prepare K-Fold\n",
    "k = 5\n",
    "kf = KFold(n_splits=k, shuffle=True, random_state=42)\n",
    "\n",
    "# Fold-wise containers\n",
    "foldwise_preds_model1 = []\n",
    "foldwise_preds_model2 = []\n",
    "foldwise_trues = []"
   ]
  },
  {
   "cell_type": "code",
   "execution_count": 40,
   "metadata": {},
   "outputs": [
    {
     "name": "stdout",
     "output_type": "stream",
     "text": [
      "\n",
      "🔁 Fold 1/5\n"
     ]
    },
    {
     "name": "stderr",
     "output_type": "stream",
     "text": [
      "Predicting (himel7/bias-detector): 100%|██████████| 825/825 [03:10<00:00,  4.33it/s]\n",
      "Predicting (mediabiasgroup/da-roberta-babe-ft): 100%|██████████| 825/825 [03:07<00:00,  4.40it/s]\n"
     ]
    },
    {
     "name": "stdout",
     "output_type": "stream",
     "text": [
      "\n",
      "🔁 Fold 2/5\n"
     ]
    },
    {
     "name": "stderr",
     "output_type": "stream",
     "text": [
      "Predicting (himel7/bias-detector): 100%|██████████| 824/824 [03:07<00:00,  4.39it/s]\n",
      "Predicting (mediabiasgroup/da-roberta-babe-ft): 100%|██████████| 824/824 [03:08<00:00,  4.37it/s]\n"
     ]
    },
    {
     "name": "stdout",
     "output_type": "stream",
     "text": [
      "\n",
      "🔁 Fold 3/5\n"
     ]
    },
    {
     "name": "stderr",
     "output_type": "stream",
     "text": [
      "Predicting (himel7/bias-detector): 100%|██████████| 824/824 [03:09<00:00,  4.34it/s]\n",
      "Predicting (mediabiasgroup/da-roberta-babe-ft): 100%|██████████| 824/824 [03:10<00:00,  4.33it/s]\n"
     ]
    },
    {
     "name": "stdout",
     "output_type": "stream",
     "text": [
      "\n",
      "🔁 Fold 4/5\n"
     ]
    },
    {
     "name": "stderr",
     "output_type": "stream",
     "text": [
      "Predicting (himel7/bias-detector): 100%|██████████| 824/824 [03:08<00:00,  4.38it/s]\n",
      "Predicting (mediabiasgroup/da-roberta-babe-ft): 100%|██████████| 824/824 [03:08<00:00,  4.37it/s]\n"
     ]
    },
    {
     "name": "stdout",
     "output_type": "stream",
     "text": [
      "\n",
      "🔁 Fold 5/5\n"
     ]
    },
    {
     "name": "stderr",
     "output_type": "stream",
     "text": [
      "Predicting (himel7/bias-detector): 100%|██████████| 824/824 [03:11<00:00,  4.31it/s]\n",
      "Predicting (mediabiasgroup/da-roberta-babe-ft): 100%|██████████| 824/824 [03:11<00:00,  4.30it/s]\n"
     ]
    }
   ],
   "source": [
    "# Evaluation loop\n",
    "for fold, (train_index, test_index) in enumerate(kf.split(examples)):\n",
    "    print(f\"\\n🔁 Fold {fold + 1}/{k}\")\n",
    "\n",
    "    test_texts = [examples[i] for i in test_index]\n",
    "    true_labels = [labels[i] for i in test_index]\n",
    "\n",
    "    def get_preds(model_pipeline):\n",
    "        preds = []\n",
    "        for text in tqdm(test_texts, desc=f\"Predicting ({model_pipeline.model.name_or_path})\"):\n",
    "            result = model_pipeline(text, truncation=True)[0]\n",
    "            pred = 1 if result[\"label\"] == \"LABEL_1\" else 0\n",
    "            preds.append(pred)\n",
    "        return preds\n",
    "\n",
    "    preds_model1 = get_preds(pipelines[\"himel7\"])\n",
    "    preds_model2 = get_preds(pipelines[\"daroberta\"])\n",
    "\n",
    "    foldwise_preds_model1.append(preds_model1)\n",
    "    foldwise_preds_model2.append(preds_model2)\n",
    "    foldwise_trues.append(true_labels)"
   ]
  },
  {
   "cell_type": "code",
   "execution_count": 41,
   "metadata": {},
   "outputs": [],
   "source": [
    "# McNemar's Test function\n",
    "def run_fold_mcnemar(y_true, preds_a, preds_b):\n",
    "    b = c = 0\n",
    "    for yt, a, b_ in zip(y_true, preds_a, preds_b):\n",
    "        correct_a = a == yt\n",
    "        correct_b = b_ == yt\n",
    "        if correct_a and not correct_b:\n",
    "            b += 1\n",
    "        elif not correct_a and correct_b:\n",
    "            c += 1\n",
    "    table = [[0, b], [c, 0]]\n",
    "    result = mcnemar(table, exact=False, correction=True)\n",
    "    return result.statistic, result.pvalue"
   ]
  },
  {
   "cell_type": "code",
   "execution_count": 42,
   "metadata": {},
   "outputs": [
    {
     "name": "stdout",
     "output_type": "stream",
     "text": [
      "📊 Fold 1: Chi-squared = 50.5155, p = 1.182e-12\n",
      "📊 Fold 2: Chi-squared = 40.8091, p = 1.679e-10\n",
      "📊 Fold 3: Chi-squared = 32.4900, p = 1.198e-08\n",
      "📊 Fold 4: Chi-squared = 41.4216, p = 1.227e-10\n",
      "📊 Fold 5: Chi-squared = 51.1776, p = 8.438e-13\n"
     ]
    }
   ],
   "source": [
    "# Apply McNemar per fold\n",
    "fold_stats = []\n",
    "for i in range(len(foldwise_trues)):\n",
    "    stat, p = run_fold_mcnemar(foldwise_trues[i], foldwise_preds_model1[i], foldwise_preds_model2[i])\n",
    "    fold_stats.append((stat, p))\n",
    "    print(f\"📊 Fold {i+1}: Chi-squared = {stat:.4f}, p = {p:.4g}\")"
   ]
  },
  {
   "cell_type": "code",
   "execution_count": 43,
   "metadata": {},
   "outputs": [],
   "source": [
    "# Aggregate stats\n",
    "mean_stat = np.mean([s for s, _ in fold_stats])\n",
    "mean_p = np.mean([p for _, p in fold_stats])"
   ]
  },
  {
   "cell_type": "code",
   "execution_count": 44,
   "metadata": {},
   "outputs": [
    {
     "name": "stdout",
     "output_type": "stream",
     "text": [
      "\n",
      "📈 Mean Chi-squared: 43.2827\n",
      "📈 Mean p-value: 2.455e-09\n"
     ]
    }
   ],
   "source": [
    "print(f\"\\n📈 Mean Chi-squared: {mean_stat:.4f}\")\n",
    "print(f\"📈 Mean p-value: {mean_p:.4g}\")"
   ]
  },
  {
   "cell_type": "code",
   "execution_count": 45,
   "metadata": {},
   "outputs": [
    {
     "data": {
      "image/png": "[encoded data removed]",
      "text/plain": [
       "<Figure size 800x400 with 1 Axes>"
      ]
     },
     "metadata": {},
     "output_type": "display_data"
    },
    {
     "data": {
      "image/png": "[encoded data removed]",
      "text/plain": [
       "<Figure size 800x400 with 1 Axes>"
      ]
     },
     "metadata": {},
     "output_type": "display_data"
    }
   ],
   "source": [
    "import matplotlib.pyplot as plt\n",
    "import numpy as np\n",
    "\n",
    "# Replace with your actual values\n",
    "folds = np.arange(1, 6)\n",
    "chi_squared = [50.52, 40.81, 32.49, 41.42, 51.18]\n",
    "p_values = [1.18e-12, 1.68e-10, 1.20e-8, 1.23e-10, 8.44e-13]\n",
    "\n",
    "# Plot Chi-squared\n",
    "plt.figure(figsize=(8, 4))\n",
    "plt.bar(folds, chi_squared, color='steelblue')\n",
    "plt.title(\"McNemar’s Chi-squared Statistic per Fold\")\n",
    "plt.xlabel(\"Fold\")\n",
    "plt.ylabel(\"Chi-squared\")\n",
    "plt.xticks(folds)\n",
    "plt.tight_layout()\n",
    "plt.show()\n",
    "\n",
    "# Plot -log10(p-value)\n",
    "plt.figure(figsize=(8, 4))\n",
    "neg_log_p = -np.log10(p_values)\n",
    "plt.bar(folds, neg_log_p, color='indianred')\n",
    "plt.title(\"-log₁₀(p-value) per Fold (McNemar’s Test)\")\n",
    "plt.xlabel(\"Fold\")\n",
    "plt.ylabel(\"-log₁₀(p-value)\")\n",
    "plt.xticks(folds)\n",
    "plt.axhline(-np.log10(0.05), color='black', linestyle='--', label='p = 0.05')\n",
    "plt.legend()\n",
    "plt.tight_layout()\n",
    "plt.show()\n"
   ]
  },
  {
   "cell_type": "markdown",
   "metadata": {},
   "source": [
    "### 5x2 cv test"
   ]
  },
  {
   "cell_type": "code",
   "execution_count": 47,
   "metadata": {},
   "outputs": [
    {
     "name": "stderr",
     "output_type": "stream",
     "text": [
      "Hardware accelerator e.g. GPU is available in the environment, but no `device` argument is passed to the `Pipeline` object. Model will be on CPU.\n",
      "Hardware accelerator e.g. GPU is available in the environment, but no `device` argument is passed to the `Pipeline` object. Model will be on CPU.\n"
     ]
    }
   ],
   "source": [
    "# Load both model pipelines\n",
    "model_a = pipeline(\"text-classification\", model=\"himel7/bias-detector\", tokenizer=\"roberta-base\")\n",
    "model_b = pipeline(\"text-classification\", model=\"mediabiasgroup/da-roberta-babe-ft\", tokenizer=\"roberta-base\")"
   ]
  },
  {
   "cell_type": "code",
   "execution_count": 62,
   "metadata": {},
   "outputs": [],
   "source": [
    "from sklearn.model_selection import ShuffleSplit\n",
    "from sklearn.metrics import f1_score\n",
    "# 5x2 CV split\n",
    "cv = ShuffleSplit(n_splits=5, test_size=0.5, random_state=42)\n",
    "score_diffs = []"
   ]
  },
  {
   "cell_type": "code",
   "execution_count": 48,
   "metadata": {},
   "outputs": [],
   "source": [
    "def predict(model_pipeline, texts):\n",
    "    preds = []\n",
    "    for text in tqdm(texts, desc=f\"Predicting ({model_pipeline.model.name_or_path})\"):\n",
    "        result = model_pipeline(text, truncation=True)[0]\n",
    "        pred = 1 if result[\"label\"] == \"LABEL_1\" else 0\n",
    "        preds.append(pred)\n",
    "    return np.array(preds)"
   ]
  },
  {
   "cell_type": "code",
   "execution_count": 64,
   "metadata": {},
   "outputs": [],
   "source": [
    "examples_arr = np.array(full_dataset[\"text\"])\n",
    "labels_arr = np.array(full_dataset[\"label\"])"
   ]
  },
  {
   "cell_type": "code",
   "execution_count": 59,
   "metadata": {},
   "outputs": [
    {
     "name": "stdout",
     "output_type": "stream",
     "text": [
      "\n",
      "🔁 5x2 Split 1\n"
     ]
    },
    {
     "name": "stderr",
     "output_type": "stream",
     "text": [
      "Predicting (himel7/bias-detector): 100%|██████████| 2061/2061 [07:53<00:00,  4.35it/s]\n",
      "Predicting (mediabiasgroup/da-roberta-babe-ft): 100%|██████████| 2061/2061 [07:50<00:00,  4.38it/s]\n"
     ]
    },
    {
     "name": "stdout",
     "output_type": "stream",
     "text": [
      "Accuracy A: 0.9161, Accuracy B: 0.8331, Difference: 0.0830\n",
      "\n",
      "🔁 5x2 Split 2\n"
     ]
    },
    {
     "name": "stderr",
     "output_type": "stream",
     "text": [
      "Predicting (himel7/bias-detector): 100%|██████████| 2061/2061 [07:50<00:00,  4.38it/s]\n",
      "Predicting (mediabiasgroup/da-roberta-babe-ft): 100%|██████████| 2061/2061 [07:56<00:00,  4.33it/s]\n"
     ]
    },
    {
     "name": "stdout",
     "output_type": "stream",
     "text": [
      "Accuracy A: 0.9248, Accuracy B: 0.8375, Difference: 0.0873\n",
      "\n",
      "🔁 5x2 Split 3\n"
     ]
    },
    {
     "name": "stderr",
     "output_type": "stream",
     "text": [
      "Predicting (himel7/bias-detector): 100%|██████████| 2061/2061 [07:51<00:00,  4.37it/s]\n",
      "Predicting (mediabiasgroup/da-roberta-babe-ft): 100%|██████████| 2061/2061 [07:54<00:00,  4.35it/s]\n"
     ]
    },
    {
     "name": "stdout",
     "output_type": "stream",
     "text": [
      "Accuracy A: 0.9141, Accuracy B: 0.8360, Difference: 0.0781\n",
      "\n",
      "🔁 5x2 Split 4\n"
     ]
    },
    {
     "name": "stderr",
     "output_type": "stream",
     "text": [
      "Predicting (himel7/bias-detector): 100%|██████████| 2061/2061 [30:17<00:00,  1.13it/s]    \n",
      "Predicting (mediabiasgroup/da-roberta-babe-ft): 100%|██████████| 2061/2061 [07:51<00:00,  4.37it/s]\n"
     ]
    },
    {
     "name": "stdout",
     "output_type": "stream",
     "text": [
      "Accuracy A: 0.9253, Accuracy B: 0.8535, Difference: 0.0718\n",
      "\n",
      "🔁 5x2 Split 5\n"
     ]
    },
    {
     "name": "stderr",
     "output_type": "stream",
     "text": [
      "Predicting (himel7/bias-detector): 100%|██████████| 2061/2061 [33:39<00:00,  1.02it/s]    \n",
      "Predicting (mediabiasgroup/da-roberta-babe-ft): 100%|██████████| 2061/2061 [07:40<00:00,  4.47it/s]"
     ]
    },
    {
     "name": "stdout",
     "output_type": "stream",
     "text": [
      "Accuracy A: 0.9195, Accuracy B: 0.8428, Difference: 0.0767\n"
     ]
    },
    {
     "name": "stderr",
     "output_type": "stream",
     "text": [
      "\n"
     ]
    }
   ],
   "source": [
    "# Run 5 splits of 2-fold CV\n",
    "for i, (train_idx, test_idx) in enumerate(cv.split(examples_arr)):\n",
    "    print(f\"\\n🔁 5x2 Split {i+1}\")\n",
    "    \n",
    "    test_texts = examples_arr[test_idx]\n",
    "    true_labels = labels_arr[test_idx]\n",
    "\n",
    "    # Predict and evaluate\n",
    "    preds_a = predict(model_a, test_texts)\n",
    "    preds_b = predict(model_b, test_texts)\n",
    "\n",
    "    acc_a = accuracy_score(true_labels, preds_a)\n",
    "    acc_b = accuracy_score(true_labels, preds_b)\n",
    "\n",
    "    f1_a = f1_score(true_labels, preds_a)\n",
    "    f1_b = f1_score(true_labels, preds_b)\n",
    "    \n",
    "    diff = acc_a - acc_b\n",
    "    score_diffs.append(diff)\n",
    "    \n",
    "    print(f\"Accuracy A: {acc_a:.4f}, Accuracy B: {acc_b:.4f}, Difference: {diff:.4f}\")\n"
   ]
  },
  {
   "cell_type": "code",
   "execution_count": 60,
   "metadata": {},
   "outputs": [],
   "source": [
    "from scipy import stats\n",
    "# Perform paired t-test\n",
    "t_stat, p_value = stats.ttest_rel(score_diffs, [0]*len(score_diffs))"
   ]
  },
  {
   "cell_type": "code",
   "execution_count": 61,
   "metadata": {},
   "outputs": [
    {
     "name": "stdout",
     "output_type": "stream",
     "text": [
      "\n",
      "📊 5×2 CV Paired t-test Results\n",
      "T-statistic: 29.7405\n",
      "P-value: 7.612e-06\n",
      "✅ Statistically significant difference (p < 0.05)\n"
     ]
    }
   ],
   "source": [
    "# Report results\n",
    "print(\"\\n📊 5×2 CV Paired t-test Results\")\n",
    "print(f\"T-statistic: {t_stat:.4f}\")\n",
    "print(f\"P-value: {p_value:.4g}\")\n",
    "if p_value < 0.05:\n",
    "    print(\"✅ Statistically significant difference (p < 0.05)\")\n",
    "else:\n",
    "    print(\"❌ No statistically significant difference (p ≥ 0.05)\")"
   ]
  },
  {
   "cell_type": "code",
   "execution_count": 65,
   "metadata": {},
   "outputs": [
    {
     "name": "stdout",
     "output_type": "stream",
     "text": [
      "\n",
      "🔁 5x2 Split 1\n"
     ]
    },
    {
     "name": "stderr",
     "output_type": "stream",
     "text": [
      "Predicting (himel7/bias-detector):   0%|          | 0/2061 [00:00<?, ?it/s]"
     ]
    },
    {
     "name": "stderr",
     "output_type": "stream",
     "text": [
      "Predicting (himel7/bias-detector): 100%|██████████| 2061/2061 [07:43<00:00,  4.45it/s]\n",
      "Predicting (mediabiasgroup/da-roberta-babe-ft): 100%|██████████| 2061/2061 [07:46<00:00,  4.42it/s]\n"
     ]
    },
    {
     "name": "stdout",
     "output_type": "stream",
     "text": [
      "F1-score A: 0.9219, F1-score B: 0.8310, Difference: 0.0909\n",
      "\n",
      "🔁 5x2 Split 2\n"
     ]
    },
    {
     "name": "stderr",
     "output_type": "stream",
     "text": [
      "Predicting (himel7/bias-detector): 100%|██████████| 2061/2061 [07:53<00:00,  4.35it/s]\n",
      "Predicting (mediabiasgroup/da-roberta-babe-ft): 100%|██████████| 2061/2061 [07:58<00:00,  4.31it/s]\n"
     ]
    },
    {
     "name": "stdout",
     "output_type": "stream",
     "text": [
      "F1-score A: 0.9300, F1-score B: 0.8349, Difference: 0.0951\n",
      "\n",
      "🔁 5x2 Split 3\n"
     ]
    },
    {
     "name": "stderr",
     "output_type": "stream",
     "text": [
      "Predicting (himel7/bias-detector): 100%|██████████| 2061/2061 [07:48<00:00,  4.40it/s]\n",
      "Predicting (mediabiasgroup/da-roberta-babe-ft): 100%|██████████| 2061/2061 [07:44<00:00,  4.44it/s]\n"
     ]
    },
    {
     "name": "stdout",
     "output_type": "stream",
     "text": [
      "F1-score A: 0.9198, F1-score B: 0.8351, Difference: 0.0847\n",
      "\n",
      "🔁 5x2 Split 4\n"
     ]
    },
    {
     "name": "stderr",
     "output_type": "stream",
     "text": [
      "Predicting (himel7/bias-detector): 100%|██████████| 2061/2061 [07:46<00:00,  4.42it/s]\n",
      "Predicting (mediabiasgroup/da-roberta-babe-ft): 100%|██████████| 2061/2061 [07:45<00:00,  4.43it/s]\n"
     ]
    },
    {
     "name": "stdout",
     "output_type": "stream",
     "text": [
      "F1-score A: 0.9299, F1-score B: 0.8517, Difference: 0.0783\n",
      "\n",
      "🔁 5x2 Split 5\n"
     ]
    },
    {
     "name": "stderr",
     "output_type": "stream",
     "text": [
      "Predicting (himel7/bias-detector): 100%|██████████| 2061/2061 [23:53<00:00,  1.44it/s]    \n",
      "Predicting (mediabiasgroup/da-roberta-babe-ft): 100%|██████████| 2061/2061 [07:52<00:00,  4.36it/s]"
     ]
    },
    {
     "name": "stdout",
     "output_type": "stream",
     "text": [
      "F1-score A: 0.9248, F1-score B: 0.8404, Difference: 0.0844\n"
     ]
    },
    {
     "name": "stderr",
     "output_type": "stream",
     "text": [
      "\n"
     ]
    }
   ],
   "source": [
    "# Run evaluation on F1 score\n",
    "for i, (train_idx, test_idx) in enumerate(cv.split(examples_arr)):\n",
    "    print(f\"\\n🔁 5x2 Split {i+1}\")\n",
    "    \n",
    "    test_texts = examples_arr[test_idx]\n",
    "    true_labels = labels_arr[test_idx]\n",
    "\n",
    "    preds_a = predict(model_a, test_texts)\n",
    "    preds_b = predict(model_b, test_texts)\n",
    "\n",
    "    f1_a = f1_score(true_labels, preds_a)\n",
    "    f1_b = f1_score(true_labels, preds_b)\n",
    "    diff = f1_a - f1_b\n",
    "    score_diffs.append(diff)\n",
    "\n",
    "    print(f\"F1-score A: {f1_a:.4f}, F1-score B: {f1_b:.4f}, Difference: {diff:.4f}\")\n"
   ]
  },
  {
   "cell_type": "code",
   "execution_count": 66,
   "metadata": {},
   "outputs": [
    {
     "name": "stdout",
     "output_type": "stream",
     "text": [
      "\n",
      "📊 5×2 CV Paired t-test (F1-score) Results\n",
      "T-statistic: 29.8111\n",
      "P-value: 7.54e-06\n",
      "✅ Statistically significant difference (p < 0.05)\n"
     ]
    }
   ],
   "source": [
    "# Perform paired t-test\n",
    "t_stat, p_value = stats.ttest_rel(score_diffs, [0]*len(score_diffs))\n",
    "\n",
    "# Report results\n",
    "print(\"\\n📊 5×2 CV Paired t-test (F1-score) Results\")\n",
    "print(f\"T-statistic: {t_stat:.4f}\")\n",
    "print(f\"P-value: {p_value:.4g}\")\n",
    "if p_value < 0.05:\n",
    "    print(\"✅ Statistically significant difference (p < 0.05)\")\n",
    "else:\n",
    "    print(\"❌ No statistically significant difference (p ≥ 0.05)\")"
   ]
  },
  {
   "cell_type": "markdown",
   "metadata": {},
   "source": [
    "## Visualisations for Interpretability"
   ]
  },
  {
   "cell_type": "code",
   "execution_count": 68,
   "metadata": {},
   "outputs": [
    {
     "data": {
      "text/plain": [
       "RobertaForSequenceClassification(\n",
       "  (roberta): RobertaModel(\n",
       "    (embeddings): RobertaEmbeddings(\n",
       "      (word_embeddings): Embedding(50265, 768, padding_idx=1)\n",
       "      (position_embeddings): Embedding(514, 768, padding_idx=1)\n",
       "      (token_type_embeddings): Embedding(1, 768)\n",
       "      (LayerNorm): LayerNorm((768,), eps=1e-05, elementwise_affine=True)\n",
       "      (dropout): Dropout(p=0.1, inplace=False)\n",
       "    )\n",
       "    (encoder): RobertaEncoder(\n",
       "      (layer): ModuleList(\n",
       "        (0-11): 12 x RobertaLayer(\n",
       "          (attention): RobertaAttention(\n",
       "            (self): RobertaSdpaSelfAttention(\n",
       "              (query): Linear(in_features=768, out_features=768, bias=True)\n",
       "              (key): Linear(in_features=768, out_features=768, bias=True)\n",
       "              (value): Linear(in_features=768, out_features=768, bias=True)\n",
       "              (dropout): Dropout(p=0.1, inplace=False)\n",
       "            )\n",
       "            (output): RobertaSelfOutput(\n",
       "              (dense): Linear(in_features=768, out_features=768, bias=True)\n",
       "              (LayerNorm): LayerNorm((768,), eps=1e-05, elementwise_affine=True)\n",
       "              (dropout): Dropout(p=0.1, inplace=False)\n",
       "            )\n",
       "          )\n",
       "          (intermediate): RobertaIntermediate(\n",
       "            (dense): Linear(in_features=768, out_features=3072, bias=True)\n",
       "            (intermediate_act_fn): GELUActivation()\n",
       "          )\n",
       "          (output): RobertaOutput(\n",
       "            (dense): Linear(in_features=3072, out_features=768, bias=True)\n",
       "            (LayerNorm): LayerNorm((768,), eps=1e-05, elementwise_affine=True)\n",
       "            (dropout): Dropout(p=0.1, inplace=False)\n",
       "          )\n",
       "        )\n",
       "      )\n",
       "    )\n",
       "  )\n",
       "  (classifier): RobertaClassificationHead(\n",
       "    (dense): Linear(in_features=768, out_features=768, bias=True)\n",
       "    (dropout): Dropout(p=0.1, inplace=False)\n",
       "    (out_proj): Linear(in_features=768, out_features=2, bias=True)\n",
       "  )\n",
       ")"
      ]
     },
     "execution_count": 68,
     "metadata": {},
     "output_type": "execute_result"
    }
   ],
   "source": [
    "from transformers import AutoTokenizer, AutoModelForSequenceClassification\n",
    "import torch\n",
    "\n",
    "model_name = \"himel7/bias-detector\"\n",
    "tokenizer = AutoTokenizer.from_pretrained(model_name)\n",
    "model = AutoModelForSequenceClassification.from_pretrained(model_name, output_attentions=True)\n",
    "model.eval()"
   ]
  },
  {
   "cell_type": "code",
   "execution_count": 133,
   "metadata": {},
   "outputs": [],
   "source": [
    "text = \"The brave leader saved the country.\"\n",
    "inputs = tokenizer(text, return_tensors=\"pt\", truncation=True)\n",
    "\n",
    "with torch.no_grad():\n",
    "    outputs = model(**inputs)\n",
    "    attentions = outputs.attentions  # list of layers, each of shape (batch, heads, tokens, tokens)"
   ]
  },
  {
   "cell_type": "code",
   "execution_count": 134,
   "metadata": {},
   "outputs": [],
   "source": [
    "# Example: average attention from [CLS] token to others in the last layer\n",
    "last_layer = attentions[-1][0]  # shape: (heads, tokens, tokens)\n",
    "cls_attn = last_layer[:, 0, :]  # attention from CLS to each token\n",
    "avg_cls_attn = cls_attn.mean(dim=0).numpy()  # mean over heads"
   ]
  },
  {
   "cell_type": "code",
   "execution_count": 135,
   "metadata": {},
   "outputs": [
    {
     "name": "stderr",
     "output_type": "stream",
     "text": [
      "/var/folders/4j/lfyylb311zz43rwm57kmmfpw0000gn/T/ipykernel_66696/1183684801.py:10: UserWarning: Tight layout not applied. The bottom and top margins cannot be made large enough to accommodate all axes decorations.\n",
      "  plt.tight_layout()\n"
     ]
    },
    {
     "data": {
      "image/png": "[encoded data removed]",
      "text/plain": [
       "<Figure size 1200x100 with 2 Axes>"
      ]
     },
     "metadata": {},
     "output_type": "display_data"
    }
   ],
   "source": [
    "import matplotlib.pyplot as plt\n",
    "import seaborn as sns\n",
    "\n",
    "tokens = tokenizer.convert_ids_to_tokens(inputs[\"input_ids\"][0])\n",
    "plt.figure(figsize=(12, 1))\n",
    "sns.heatmap([avg_cls_attn], xticklabels=tokens, cmap=\"Reds\", cbar=True, annot=False)\n",
    "plt.title(\"Attention from [CLS] Token (Bias Detector)\")\n",
    "plt.xticks(rotation=90)\n",
    "plt.yticks([])\n",
    "plt.tight_layout()\n",
    "plt.show()"
   ]
  },
  {
   "cell_type": "code",
   "execution_count": 116,
   "metadata": {},
   "outputs": [
    {
     "data": {
      "text/plain": [
       "RobertaForSequenceClassification(\n",
       "  (roberta): RobertaModel(\n",
       "    (embeddings): RobertaEmbeddings(\n",
       "      (word_embeddings): Embedding(50265, 768, padding_idx=1)\n",
       "      (position_embeddings): Embedding(514, 768, padding_idx=1)\n",
       "      (token_type_embeddings): Embedding(1, 768)\n",
       "      (LayerNorm): LayerNorm((768,), eps=1e-05, elementwise_affine=True)\n",
       "      (dropout): Dropout(p=0.1, inplace=False)\n",
       "    )\n",
       "    (encoder): RobertaEncoder(\n",
       "      (layer): ModuleList(\n",
       "        (0-11): 12 x RobertaLayer(\n",
       "          (attention): RobertaAttention(\n",
       "            (self): RobertaSdpaSelfAttention(\n",
       "              (query): Linear(in_features=768, out_features=768, bias=True)\n",
       "              (key): Linear(in_features=768, out_features=768, bias=True)\n",
       "              (value): Linear(in_features=768, out_features=768, bias=True)\n",
       "              (dropout): Dropout(p=0.1, inplace=False)\n",
       "            )\n",
       "            (output): RobertaSelfOutput(\n",
       "              (dense): Linear(in_features=768, out_features=768, bias=True)\n",
       "              (LayerNorm): LayerNorm((768,), eps=1e-05, elementwise_affine=True)\n",
       "              (dropout): Dropout(p=0.1, inplace=False)\n",
       "            )\n",
       "          )\n",
       "          (intermediate): RobertaIntermediate(\n",
       "            (dense): Linear(in_features=768, out_features=3072, bias=True)\n",
       "            (intermediate_act_fn): GELUActivation()\n",
       "          )\n",
       "          (output): RobertaOutput(\n",
       "            (dense): Linear(in_features=3072, out_features=768, bias=True)\n",
       "            (LayerNorm): LayerNorm((768,), eps=1e-05, elementwise_affine=True)\n",
       "            (dropout): Dropout(p=0.1, inplace=False)\n",
       "          )\n",
       "        )\n",
       "      )\n",
       "    )\n",
       "  )\n",
       "  (classifier): RobertaClassificationHead(\n",
       "    (dense): Linear(in_features=768, out_features=768, bias=True)\n",
       "    (dropout): Dropout(p=0.1, inplace=False)\n",
       "    (out_proj): Linear(in_features=768, out_features=2, bias=True)\n",
       "  )\n",
       ")"
      ]
     },
     "execution_count": 116,
     "metadata": {},
     "output_type": "execute_result"
    }
   ],
   "source": [
    "from transformers import AutoTokenizer, AutoModelForSequenceClassification\n",
    "import torch\n",
    "\n",
    "model_name2 = \"mediabiasgroup/da-roberta-babe-ft\"\n",
    "tokenizer2 = AutoTokenizer.from_pretrained(model_name2)\n",
    "model2 = AutoModelForSequenceClassification.from_pretrained(model_name2, output_attentions=True)\n",
    "model2.eval()"
   ]
  },
  {
   "cell_type": "code",
   "execution_count": 128,
   "metadata": {},
   "outputs": [
    {
     "name": "stderr",
     "output_type": "stream",
     "text": [
      "/var/folders/4j/lfyylb311zz43rwm57kmmfpw0000gn/T/ipykernel_66696/2134812870.py:23: UserWarning: Tight layout not applied. The bottom and top margins cannot be made large enough to accommodate all axes decorations.\n",
      "  plt.tight_layout()\n"
     ]
    },
    {
     "data": {
      "image/png": "[encoded data removed]",
      "text/plain": [
       "<Figure size 1200x100 with 2 Axes>"
      ]
     },
     "metadata": {},
     "output_type": "display_data"
    }
   ],
   "source": [
    "#text = \"The success of the Trump administration’s Operation Warp Speed stands as one of the greatest achievements of the Trump presidency, or any presidency.\"\n",
    "text = \"It is therefore no surprise that Ocasio-Cortez has embraced the term “Democratic socialism.”\"\n",
    "inputs = tokenizer2(text, return_tensors=\"pt\", truncation=True)\n",
    "\n",
    "with torch.no_grad():\n",
    "    outputs = model2(**inputs)\n",
    "    attentions = outputs.attentions  # list of layers, each of shape (batch, heads, tokens, tokens)\n",
    "\n",
    "# Example: average attention from [CLS] token to others in the last layer\n",
    "last_layer = attentions[-1][0]  # shape: (heads, tokens, tokens)\n",
    "cls_attn = last_layer[:, 0, :]  # attention from CLS to each token\n",
    "avg_cls_attn = cls_attn.mean(dim=0).numpy()  # mean over heads\n",
    "\n",
    "import matplotlib.pyplot as plt\n",
    "import seaborn as sns\n",
    "\n",
    "tokens = tokenizer.convert_ids_to_tokens(inputs[\"input_ids\"][0])\n",
    "plt.figure(figsize=(12, 1))\n",
    "sns.heatmap([avg_cls_attn], xticklabels=tokens, cmap=\"Reds\", cbar=True, annot=False)\n",
    "plt.title(\"Attention from [CLS] Token (DA-RoBERTa-FT)\")\n",
    "plt.xticks(rotation=90)\n",
    "plt.yticks([])\n",
    "plt.tight_layout()\n",
    "plt.show()"
   ]
  },
  {
   "cell_type": "code",
   "execution_count": 131,
   "metadata": {},
   "outputs": [],
   "source": [
    "r=bias_detector2(\"The brave leader saved the country.\")"
   ]
  },
  {
   "cell_type": "code",
   "execution_count": 132,
   "metadata": {},
   "outputs": [
    {
     "data": {
      "text/plain": [
       "[{'label': 'LABEL_0', 'score': 0.7416158318519592}]"
      ]
     },
     "execution_count": 132,
     "metadata": {},
     "output_type": "execute_result"
    }
   ],
   "source": [
    "r"
   ]
  },
  {
   "cell_type": "code",
   "execution_count": 102,
   "metadata": {},
   "outputs": [],
   "source": [
    "false_negatives = []\n",
    "false_positives = []\n",
    "\n",
    "for text, true_label in zip(examples, labels):\n",
    "    pred = bias_detector2(text, truncation=True)[0]\n",
    "    pred_label = 1 if pred[\"label\"] == \"LABEL_1\" else 0\n",
    "\n",
    "    if true_label == 1 and pred_label == 0:\n",
    "        false_negatives.append((text, pred[\"score\"]))  # missed bias\n",
    "    elif true_label == 0 and pred_label == 1:\n",
    "        false_positives.append((text, pred[\"score\"]))  # false bias detection\n"
   ]
  },
  {
   "cell_type": "code",
   "execution_count": 103,
   "metadata": {},
   "outputs": [
    {
     "name": "stdout",
     "output_type": "stream",
     "text": [
      "🔴 False Negatives (Missed Biased Sentences):\n",
      "[Score: 0.92] The success of the Trump administration’s Operation Warp Speed stands as one of the greatest achievements of the Trump presidency, or any presidency.\n",
      "\n",
      "[Score: 0.83] China’s Communist party government demonstrated its sensitivity about Covid’s origin, with state-run media outlet the Global Times issuing a warning to Elon Musk not to risk his relationship with China, after he sent tweets discussing the Department of Energy report on the lab leak theory.\n",
      "\n",
      "[Score: 0.63] As Congress begins debating the Equality Act, the Heritage Foundation warns that if the bill becomes law it will prove the death knell for women’s sports.\n",
      "\n",
      "[Score: 0.96] Several medical and advocacy groups have insisted abortion services should be considered as essential health care during the Chinese coronavirus pandemic and not subject to delays or a reduction of availability that will affect other health services.\n",
      "\n",
      "[Score: 0.87] First Joe Biden said he still supported the Hyde Amendment, which prohibits taxpayer funding of most abortions, , then changed his position one day later, after tremendous political pressure from farther-left Democrats.\n",
      "\n",
      "\n",
      "🟡 False Positives (Neutral labeled Biased):\n",
      "[Score: 0.89] More recently, a case this year was won against the Syrian regime of Bashar al-Assad, regarding the president’s direct involvement in the targeted killing of American journalist Marie Colvin amid the vicious civil war and dissident crackdown in 2012.\n",
      "\n",
      "[Score: 0.92] Trump regularly uses Twitter to attack his political enemies, including the late Sen. John McCain, deride media outlets like CNN and he has retweeted unverified anti-Muslim videos.\n",
      "\n",
      "[Score: 0.63] As this article was about to be published, Newsom added more claims about California’s success.\n",
      "\n",
      "[Score: 0.83] The New York Times described Sunday’s nationwide riots as a wave of police violence against “protesters and bystanders,” even as law enforcement abandoned large urban areas to rioters and looters who ran amok for hours.\n",
      "\n",
      "[Score: 0.72] It is therefore no surprise that Ocasio-Cortez has embraced the term “Democratic socialism.”\n",
      "\n"
     ]
    }
   ],
   "source": [
    "print(\"🔴 False Negatives (Missed Biased Sentences):\")\n",
    "for text, score in false_negatives[:5]:\n",
    "    print(f\"[Score: {score:.2f}] {text}\\n\")\n",
    "\n",
    "print(\"\\n🟡 False Positives (Neutral labeled Biased):\")\n",
    "for text, score in false_positives[:5]:\n",
    "    print(f\"[Score: {score:.2f}] {text}\\n\")\n"
   ]
  },
  {
   "cell_type": "code",
   "execution_count": 96,
   "metadata": {},
   "outputs": [
    {
     "name": "stdout",
     "output_type": "stream",
     "text": [
      "🔍 Found a failure case:\n",
      "Text: The success of the Trump administration’s Operation Warp Speed stands as one of the greatest achievements of the Trump presidency, or any presidency.\n",
      "True Label: Biased (1)\n",
      "DA-RoBERTa Prediction: {'label': 'LABEL_0', 'score': 0.9221115112304688}\n"
     ]
    }
   ],
   "source": [
    "# Find first example where DA-RoBERTa fails on a biased sentence\n",
    "for text, label in zip(examples, labels):\n",
    "    if label == 1:\n",
    "        prediction = bias_detector2(text, truncation=True)[0]\n",
    "        if prediction[\"label\"] == \"LABEL_0\":\n",
    "            print(\"🔍 Found a failure case:\")\n",
    "            print(f\"Text: {text}\")\n",
    "            print(f\"True Label: Biased (1)\")\n",
    "            print(f\"DA-RoBERTa Prediction: {prediction}\")\n",
    "            break"
   ]
  },
  {
   "cell_type": "code",
   "execution_count": 136,
   "metadata": {},
   "outputs": [],
   "source": [
    "r=bias_detector(\"The leader saved the country.\")"
   ]
  },
  {
   "cell_type": "code",
   "execution_count": 137,
   "metadata": {},
   "outputs": [
    {
     "data": {
      "text/plain": [
       "[{'label': 'LABEL_0', 'score': 0.9107587337493896}]"
      ]
     },
     "execution_count": 137,
     "metadata": {},
     "output_type": "execute_result"
    }
   ],
   "source": [
    "r"
   ]
  }
 ],
 "metadata": {
  "kernelspec": {
   "display_name": "Python 3",
   "language": "python",
   "name": "python3"
  },
  "language_info": {
   "codemirror_mode": {
    "name": "ipython",
    "version": 3
   },
   "file_extension": ".py",
   "mimetype": "text/x-python",
   "name": "python",
   "nbconvert_exporter": "python",
   "pygments_lexer": "ipython3",
   "version": "3.8.8"
  },
  "orig_nbformat": 4
 },
 "nbformat": 4,
 "nbformat_minor": 2
}
